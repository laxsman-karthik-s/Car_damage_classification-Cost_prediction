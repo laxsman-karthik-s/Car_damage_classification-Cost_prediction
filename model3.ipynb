{
 "cells": [
  {
   "cell_type": "code",
   "execution_count": 2,
   "metadata": {},
   "outputs": [
    {
     "name": "stdout",
     "output_type": "stream",
     "text": [
      "Found 1383 images belonging to 3 classes.\n",
      "Found 248 images belonging to 3 classes.\n",
      "Epoch 1/20\n",
      "44/44 [==============================] - 69s 2s/step - loss: 1.2809 - accuracy: 0.3557 - val_loss: 1.0727 - val_accuracy: 0.3629\n",
      "Epoch 2/20\n",
      "44/44 [==============================] - 53s 1s/step - loss: 1.0445 - accuracy: 0.4490 - val_loss: 1.1745 - val_accuracy: 0.4476\n",
      "Epoch 3/20\n",
      "44/44 [==============================] - 68s 2s/step - loss: 1.0129 - accuracy: 0.4751 - val_loss: 0.9461 - val_accuracy: 0.5444\n",
      "Epoch 4/20\n",
      "44/44 [==============================] - 55s 1s/step - loss: 1.0087 - accuracy: 0.4772 - val_loss: 0.9761 - val_accuracy: 0.4677\n",
      "Epoch 5/20\n",
      "44/44 [==============================] - 51s 1s/step - loss: 0.9902 - accuracy: 0.4982 - val_loss: 0.9692 - val_accuracy: 0.4879\n",
      "Epoch 6/20\n",
      "44/44 [==============================] - 57s 1s/step - loss: 1.0017 - accuracy: 0.4787 - val_loss: 0.9587 - val_accuracy: 0.4879\n",
      "Epoch 7/20\n",
      "44/44 [==============================] - 71s 2s/step - loss: 0.9926 - accuracy: 0.4895 - val_loss: 1.0901 - val_accuracy: 0.4435\n",
      "Epoch 8/20\n",
      "44/44 [==============================] - 70s 2s/step - loss: 0.9699 - accuracy: 0.5380 - val_loss: 0.9169 - val_accuracy: 0.5363\n",
      "Epoch 9/20\n",
      "44/44 [==============================] - 68s 2s/step - loss: 0.9509 - accuracy: 0.5213 - val_loss: 0.9631 - val_accuracy: 0.5161\n",
      "Epoch 10/20\n",
      "44/44 [==============================] - 51s 1s/step - loss: 0.9484 - accuracy: 0.5380 - val_loss: 0.9164 - val_accuracy: 0.5726\n",
      "Epoch 11/20\n",
      "44/44 [==============================] - 53s 1s/step - loss: 0.9296 - accuracy: 0.5553 - val_loss: 0.8662 - val_accuracy: 0.5847\n",
      "Epoch 12/20\n",
      "44/44 [==============================] - 52s 1s/step - loss: 0.9320 - accuracy: 0.5416 - val_loss: 0.8791 - val_accuracy: 0.5685\n",
      "Epoch 13/20\n",
      "44/44 [==============================] - 71s 2s/step - loss: 0.9119 - accuracy: 0.5560 - val_loss: 0.8850 - val_accuracy: 0.5605\n",
      "Epoch 14/20\n",
      "44/44 [==============================] - 69s 2s/step - loss: 0.9203 - accuracy: 0.5503 - val_loss: 0.8261 - val_accuracy: 0.6129\n",
      "Epoch 15/20\n",
      "44/44 [==============================] - 58s 1s/step - loss: 0.9054 - accuracy: 0.5459 - val_loss: 0.8233 - val_accuracy: 0.6250\n",
      "Epoch 16/20\n",
      "44/44 [==============================] - 59s 1s/step - loss: 0.9355 - accuracy: 0.5387 - val_loss: 0.8343 - val_accuracy: 0.6089\n",
      "Epoch 17/20\n",
      "44/44 [==============================] - 65s 1s/step - loss: 0.9044 - accuracy: 0.5597 - val_loss: 0.9134 - val_accuracy: 0.5524\n",
      "Epoch 18/20\n",
      "44/44 [==============================] - 75s 2s/step - loss: 0.8941 - accuracy: 0.5597 - val_loss: 1.0751 - val_accuracy: 0.5000\n",
      "Epoch 19/20\n",
      "44/44 [==============================] - 67s 2s/step - loss: 0.8991 - accuracy: 0.5387 - val_loss: 0.8552 - val_accuracy: 0.6048\n",
      "Epoch 20/20\n",
      "44/44 [==============================] - 64s 1s/step - loss: 0.9166 - accuracy: 0.5524 - val_loss: 0.8232 - val_accuracy: 0.6008\n"
     ]
    },
    {
     "name": "stderr",
     "output_type": "stream",
     "text": [
      "c:\\Users\\Pc\\AppData\\Local\\Programs\\Python\\Python38\\lib\\site-packages\\keras\\src\\engine\\training.py:3000: UserWarning: You are saving your model as an HDF5 file via `model.save()`. This file format is considered legacy. We recommend using instead the native Keras format, e.g. `model.save('my_model.keras')`.\n",
      "  saving_api.save_model(\n"
     ]
    },
    {
     "name": "stdout",
     "output_type": "stream",
     "text": [
      "Model saved as car_damage_severity_model.h5\n"
     ]
    }
   ],
   "source": [
    "import tensorflow as tf\n",
    "from tensorflow.keras import layers, models\n",
    "from tensorflow.keras.preprocessing.image import ImageDataGenerator\n",
    "\n",
    "# Define base directory containing training and validation data\n",
    "base_dir = \"C:\\\\Users\\\\Pc\\\\OneDrive\\\\Desktop\\\\car_damage\\\\damage_severity\"\n",
    "\n",
    "# Data preparation\n",
    "train_datagen = ImageDataGenerator(\n",
    "    rescale=1./255,         # Normalize pixel values\n",
    "    shear_range=0.2,\n",
    "    zoom_range=0.2,\n",
    "    rotation_range=20,\n",
    "    width_shift_range=0.2,\n",
    "    height_shift_range=0.2,\n",
    "    horizontal_flip=True,\n",
    "    validation_split=0.2    # Split data into training and validation sets\n",
    ")\n",
    "\n",
    "val_datagen = ImageDataGenerator(rescale=1./255)  # Only normalization for validation data\n",
    "\n",
    "# Create generators for training and validation\n",
    "train_generator = train_datagen.flow_from_directory(\n",
    "    base_dir + \"\\\\training\",   # Directory for training data\n",
    "    target_size=(150, 150),    # Resize images to 150x150\n",
    "    batch_size=32,\n",
    "    class_mode='categorical',   # Multi-class classification\n",
    ")\n",
    "\n",
    "val_generator = val_datagen.flow_from_directory(\n",
    "    base_dir + \"\\\\validation\",   # Directory for validation data\n",
    "    target_size=(150, 150),      # Resize images to 150x150\n",
    "    batch_size=32,\n",
    "    class_mode='categorical',     # Multi-class classification\n",
    ")\n",
    "\n",
    "# Model Creation\n",
    "damage_model = models.Sequential([\n",
    "    layers.Conv2D(32, (3, 3), activation='relu', input_shape=(150, 150, 3)),\n",
    "    layers.MaxPooling2D(2, 2),\n",
    "    layers.Conv2D(64, (3, 3), activation='relu'),\n",
    "    layers.MaxPooling2D(2, 2),\n",
    "    layers.Conv2D(128, (3, 3), activation='relu'),\n",
    "    layers.MaxPooling2D(2, 2),\n",
    "    layers.Flatten(),\n",
    "    layers.Dense(512, activation='relu'),\n",
    "    layers.Dense(3, activation='softmax')  # 3 classes for severity\n",
    "])\n",
    "\n",
    "# Compile the Model\n",
    "damage_model.compile(optimizer='adam', loss='categorical_crossentropy', metrics=['accuracy'])\n",
    "\n",
    "# Train the Model\n",
    "damage_model.fit(train_generator, epochs=20, validation_data=val_generator)\n",
    "\n",
    "# Save the model\n",
    "damage_model.save(\"car_damage_severity_model.h5\")\n",
    "print(\"Model saved as car_damage_severity_model.h5\")\n"
   ]
  }
 ],
 "metadata": {
  "kernelspec": {
   "display_name": "Python 3",
   "language": "python",
   "name": "python3"
  },
  "language_info": {
   "codemirror_mode": {
    "name": "ipython",
    "version": 3
   },
   "file_extension": ".py",
   "mimetype": "text/x-python",
   "name": "python",
   "nbconvert_exporter": "python",
   "pygments_lexer": "ipython3",
   "version": "3.8.7"
  }
 },
 "nbformat": 4,
 "nbformat_minor": 2
}
