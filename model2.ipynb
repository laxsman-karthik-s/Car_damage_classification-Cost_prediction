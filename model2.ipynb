{
 "cells": [
  {
   "cell_type": "code",
   "execution_count": 1,
   "metadata": {},
   "outputs": [
    {
     "name": "stdout",
     "output_type": "stream",
     "text": [
      "Number of non-damaged cars: 2000\n",
      "Number of damaged cars: 2243\n",
      "Found 4271 images belonging to 3 classes.\n",
      "Training samples: 4271, Classes: {'Car': 0, 'Car_Damage': 1, 'test': 2}\n",
      "Starting model training...\n",
      "Epoch 1/10\n",
      " 41/134 [========>.....................] - ETA: 2:05 - loss: 0.6608 - accuracy: 0.6587"
     ]
    },
    {
     "name": "stderr",
     "output_type": "stream",
     "text": [
      "c:\\Users\\Pc\\AppData\\Local\\Programs\\Python\\Python38\\lib\\site-packages\\PIL\\Image.py:1056: UserWarning: Palette images with Transparency expressed in bytes should be converted to RGBA images\n",
      "  warnings.warn(\n"
     ]
    },
    {
     "name": "stdout",
     "output_type": "stream",
     "text": [
      "134/134 [==============================] - 152s 1s/step - loss: 0.5007 - accuracy: 0.7635\n",
      "Epoch 2/10\n",
      "134/134 [==============================] - 137s 1s/step - loss: 0.3276 - accuracy: 0.8478\n",
      "Epoch 3/10\n",
      "134/134 [==============================] - 133s 993ms/step - loss: 0.2397 - accuracy: 0.8907\n",
      "Epoch 4/10\n",
      "134/134 [==============================] - 138s 1s/step - loss: 0.1781 - accuracy: 0.9040\n",
      "Epoch 5/10\n",
      "134/134 [==============================] - 134s 999ms/step - loss: 0.1343 - accuracy: 0.9166\n",
      "Epoch 6/10\n",
      "134/134 [==============================] - 131s 978ms/step - loss: 0.1167 - accuracy: 0.9092\n",
      "Epoch 7/10\n",
      "134/134 [==============================] - 136s 1s/step - loss: -0.0511 - accuracy: 0.9300\n",
      "Epoch 8/10\n",
      "134/134 [==============================] - 132s 984ms/step - loss: -0.3939 - accuracy: 0.9145\n",
      "Epoch 9/10\n",
      "134/134 [==============================] - 126s 943ms/step - loss: -0.8051 - accuracy: 0.8581\n",
      "Epoch 10/10\n",
      "134/134 [==============================] - 129s 962ms/step - loss: -4.4896 - accuracy: 0.8733\n"
     ]
    },
    {
     "name": "stderr",
     "output_type": "stream",
     "text": [
      "c:\\Users\\Pc\\AppData\\Local\\Programs\\Python\\Python38\\lib\\site-packages\\keras\\src\\engine\\training.py:3000: UserWarning: You are saving your model as an HDF5 file via `model.save()`. This file format is considered legacy. We recommend using instead the native Keras format, e.g. `model.save('my_model.keras')`.\n",
      "  saving_api.save_model(\n"
     ]
    },
    {
     "name": "stdout",
     "output_type": "stream",
     "text": [
      "Model saved as car_damage_model.h5\n"
     ]
    }
   ],
   "source": [
    "import tensorflow as tf\n",
    "from tensorflow.keras import layers, models\n",
    "from tensorflow.keras.preprocessing.image import ImageDataGenerator\n",
    "import os\n",
    "\n",
    "# Define the base directory containing Cars and Damaged_Cars\n",
    "base_dir = \"C:\\\\Users\\\\Pc\\\\OneDrive\\\\Desktop\\\\car_damage\\\\damage_is\"\n",
    "\n",
    "# Check the number of images in each class\n",
    "print(f\"Number of non-damaged cars: {len(os.listdir(os.path.join(base_dir, 'Car')))}\")\n",
    "print(f\"Number of damaged cars: {len(os.listdir(os.path.join(base_dir, 'Car_Damage')))}\")\n",
    "\n",
    "# Create an ImageDataGenerator for loading images\n",
    "datagen = ImageDataGenerator(rescale=1./255)  # Normalize pixel values\n",
    "\n",
    "# Create generators for training data\n",
    "train_generator = datagen.flow_from_directory(\n",
    "    base_dir,\n",
    "    target_size=(150, 150),  # Resize images to 150x150\n",
    "    batch_size=32,\n",
    "    class_mode='binary'       # Binary classification\n",
    ")\n",
    "\n",
    "print(f\"Training samples: {train_generator.samples}, Classes: {train_generator.class_indices}\")\n",
    "\n",
    "# Model Creation\n",
    "damage_model = models.Sequential([\n",
    "    layers.Conv2D(32, (3, 3), activation='relu', input_shape=(150, 150, 3)),\n",
    "    layers.MaxPooling2D(2, 2),\n",
    "    layers.Conv2D(64, (3, 3), activation='relu'),\n",
    "    layers.MaxPooling2D(2, 2),\n",
    "    layers.Conv2D(128, (3, 3), activation='relu'),\n",
    "    layers.MaxPooling2D(2, 2),\n",
    "    layers.Flatten(),\n",
    "    layers.Dense(512, activation='relu'),\n",
    "    layers.Dense(1, activation='sigmoid')  # Output layer for binary classification\n",
    "])\n",
    "\n",
    "# Compile Model\n",
    "damage_model.compile(optimizer='adam', loss='binary_crossentropy', metrics=['accuracy'])\n",
    "\n",
    "# Train the Model\n",
    "print(\"Starting model training...\")\n",
    "damage_model.fit(train_generator, epochs=10)\n",
    "\n",
    "# Save the model\n",
    "damage_model.save(\"car_damage_model.h5\")\n",
    "print(\"Model saved as car_damage_model.h5\")\n"
   ]
  }
 ],
 "metadata": {
  "kernelspec": {
   "display_name": "Python 3",
   "language": "python",
   "name": "python3"
  },
  "language_info": {
   "codemirror_mode": {
    "name": "ipython",
    "version": 3
   },
   "file_extension": ".py",
   "mimetype": "text/x-python",
   "name": "python",
   "nbconvert_exporter": "python",
   "pygments_lexer": "ipython3",
   "version": "3.8.7"
  }
 },
 "nbformat": 4,
 "nbformat_minor": 2
}
