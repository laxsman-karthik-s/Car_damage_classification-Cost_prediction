{
 "cells": [
  {
   "cell_type": "code",
   "execution_count": 3,
   "metadata": {},
   "outputs": [
    {
     "name": "stdout",
     "output_type": "stream",
     "text": [
      "Processed image shape: (1, 150, 150, 3)\n",
      "1/1 [==============================] - 0s 372ms/step\n",
      "The image is classified as a Car.\n"
     ]
    }
   ],
   "source": [
    "import tensorflow as tf\n",
    "from tensorflow.keras.preprocessing import image\n",
    "import numpy as np\n",
    "from PIL import Image\n",
    "import os\n",
    "\n",
    "# Load the trained model\n",
    "model = tf.keras.models.load_model('car_bike_classification_model.h5')\n",
    "\n",
    "# Function to preprocess image\n",
    "def preprocess_image(img_path):\n",
    "    try:\n",
    "        img = Image.open(img_path)  # Open the image file\n",
    "        img = img.resize((150, 150))  # Resize the image to the required input size (150x150)\n",
    "        img = np.array(img)  # Convert the image to an array\n",
    "        \n",
    "        # Check if the image has 3 channels (RGB) or 1 channel (grayscale)\n",
    "        if img.ndim == 2:  # Grayscale image\n",
    "            img = np.stack((img,) * 3, axis=-1)  # Convert to RGB by stacking the grayscale\n",
    "        \n",
    "        img = img / 255.0  # Normalize the image (since the model was trained with rescaled images)\n",
    "        img = np.expand_dims(img, axis=0)  # Add a batch dimension (1, 150, 150, 3)\n",
    "        \n",
    "        # Check the shape of the processed image\n",
    "        print(f\"Processed image shape: {img.shape}\")  # For debugging\n",
    "        \n",
    "        return img\n",
    "    except Exception as e:\n",
    "        print(f\"Error processing image {img_path}: {e}\")\n",
    "        return None\n",
    "\n",
    "# Path to the test image\n",
    "image_path = \"C:\\\\Users\\\\Pc\\\\OneDrive\\\\Desktop\\\\car_damage\\\\car_detect\\\\Car-Bike-Dataset\\\\Car\\\\Car (1).jpg\"\n",
    "\n",
    "# Check if the image file exists\n",
    "if os.path.exists(image_path):\n",
    "    # Preprocess the image\n",
    "    processed_image = preprocess_image(image_path)\n",
    "\n",
    "    if processed_image is not None:  # Proceed only if image was processed successfully\n",
    "        # Make a prediction\n",
    "        try:\n",
    "            prediction = model.predict(processed_image)\n",
    "            # Interpret the result\n",
    "            if prediction[0][0] > 0.5:\n",
    "                print(\"The image is classified as a Car.\")\n",
    "            else:\n",
    "                print(\"The image is classified as not a car.\")\n",
    "        except Exception as e:\n",
    "            print(f\"Error during prediction: {e}\")\n",
    "else:\n",
    "    print(f\"Image file '{image_path}' does not exist. Please check the path.\")\n"
   ]
  }
 ],
 "metadata": {
  "kernelspec": {
   "display_name": "Python 3",
   "language": "python",
   "name": "python3"
  },
  "language_info": {
   "codemirror_mode": {
    "name": "ipython",
    "version": 3
   },
   "file_extension": ".py",
   "mimetype": "text/x-python",
   "name": "python",
   "nbconvert_exporter": "python",
   "pygments_lexer": "ipython3",
   "version": "3.8.7"
  }
 },
 "nbformat": 4,
 "nbformat_minor": 2
}
