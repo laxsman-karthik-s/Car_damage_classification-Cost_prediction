{
 "cells": [
  {
   "cell_type": "code",
   "execution_count": 1,
   "metadata": {},
   "outputs": [
    {
     "name": "stdout",
     "output_type": "stream",
     "text": [
      "Creating new Ultralytics Settings v0.0.6 file  \n",
      "View Ultralytics Settings with 'yolo settings' or at 'C:\\Users\\Pc\\AppData\\Roaming\\Ultralytics\\settings.json'\n",
      "Update Settings with 'yolo settings key=value', i.e. 'yolo settings runs_dir=path/to/dir'. For help see https://docs.ultralytics.com/quickstart/#ultralytics-settings.\n",
      "Model file 'car_bike_classification_model.pt' does not exist. Please check the path.\n",
      "Error during YOLO prediction: name 'model' is not defined\n"
     ]
    }
   ],
   "source": [
    "from ultralytics import YOLO\n",
    "import os\n",
    "\n",
    "# Load the YOLO model (use 'best.pt' if using a custom-trained model)\n",
    "model_path = \"car_bike_classification_model.pt\"  # Replace with your model file\n",
    "if not os.path.exists(model_path):\n",
    "    print(f\"Model file '{model_path}' does not exist. Please check the path.\")\n",
    "else:\n",
    "    model = YOLO(model_path)  # Load the model\n",
    "\n",
    "# Path to the test image\n",
    "image_path = \"C:\\\\Users\\\\Pc\\\\OneDrive\\\\Desktop\\\\car_damage\\\\damage_is\\\\Car\\\\Car (36).jpeg\"\n",
    "\n",
    "\n",
    "\n",
    "# Check if the image file exists\n",
    "if os.path.exists(image_path):\n",
    "    try:\n",
    "        # Perform inference\n",
    "        results = model.predict(source=image_path, imgsz=640, conf=0.25)\n",
    "\n",
    "        # Interpret Results\n",
    "        print(\"Results:\")\n",
    "        results.print()  # Prints class names, confidences, etc.\n",
    "\n",
    "        # Display and save results\n",
    "        results.show()  # Shows the image with predictions\n",
    "        results.save(save_dir=\"detections\")  # Save the image with predictions to the 'detections' folder\n",
    "\n",
    "    except Exception as e:\n",
    "        print(f\"Error during YOLO prediction: {e}\")\n",
    "else:\n",
    "    print(f\"Image file '{image_path}' does not exist. Please check the path.\")"
   ]
  }
 ],
 "metadata": {
  "kernelspec": {
   "display_name": "Python 3",
   "language": "python",
   "name": "python3"
  },
  "language_info": {
   "codemirror_mode": {
    "name": "ipython",
    "version": 3
   },
   "file_extension": ".py",
   "mimetype": "text/x-python",
   "name": "python",
   "nbconvert_exporter": "python",
   "pygments_lexer": "ipython3",
   "version": "3.8.7"
  }
 },
 "nbformat": 4,
 "nbformat_minor": 2
}
